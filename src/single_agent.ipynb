{
 "cells": [
  {
   "cell_type": "code",
   "execution_count": 1,
   "id": "32a91f47",
   "metadata": {},
   "outputs": [],
   "source": [
    "import os\n",
    "import time\n",
    "import config\n",
    "from datetime import datetime\n",
    "from log_utils import read_log_messages, normalize_template, normalize_template_v1, normalize_template_v2, save_templates\n",
    "from ollama_utils import start_ollama_server, stop_ollama_server, start_ollama_server_log\n",
    "from autogen import AssistantAgent\n",
    "from codecarbon import EmissionsTracker\n",
    "from evaluation import evaluate_and_save"
   ]
  },
  {
   "cell_type": "code",
   "execution_count": 2,
   "id": "1f19fb53",
   "metadata": {},
   "outputs": [],
   "source": [
    "# --- Configuration ---\n",
    "llm_config = config.LLM_CONFIG\n",
    "task = config.TASK_PROMPT\n",
    "sys_prompt_few_shot_single_log_parser = config.SYS_MSG_SINGLE_LOG_PARSER_FEW_SHOT\n",
    "sys_prompt_zero_shot_single_log_parser = config.SYS_MSG_SINGLE_LOG_PARSER_ZERO_SHOT\n",
    "\n",
    "LOG_DIR = config.LOG_DIR\n",
    "RESULT_DIR = config.RESULT_DIR\n",
    "os.makedirs(RESULT_DIR, exist_ok=True)\n",
    " \n",
    "# change this for different designs, i.e., \"SA-zero\"\n",
    "DESIGN = \"SA-few\"\n",
    "model = llm_config[\"config_list\"][0][\"model\"].replace(\":\", \"-\")\n",
    "timestamp = datetime.now().strftime(\"%Y%m%d-%H%M%S\")\n",
    "project_name = DESIGN.capitalize()\n",
    "exp_name = f\"{project_name}_{model}_{timestamp}\"\n",
    "\n",
    "input_log_file = \"HDFS_200_sampled.log\"\n",
    "log_path = os.path.join(LOG_DIR, input_log_file)\n",
    "ground_truth_file_path = os.path.join(LOG_DIR, \"HDFS_200_sampled_log_structured.csv\")"
   ]
  },
  {
   "cell_type": "code",
   "execution_count": null,
   "id": "56ff880e",
   "metadata": {},
   "outputs": [],
   "source": [
    "# --- Agent Creation ---\n",
    "def create_single_log_parser_agent(llm_config, sys_prompt):\n",
    "    return AssistantAgent(\n",
    "        name=\"log_parser_agent\",\n",
    "        system_message=sys_prompt,\n",
    "        description=\"Analyze the log message in order to determine the corresponding template.\",\n",
    "        llm_config=llm_config,\n",
    "        human_input_mode=\"NEVER\",\n",
    "    )"
   ]
  },
  {
   "cell_type": "code",
   "execution_count": null,
   "id": "3e97cd4f",
   "metadata": {},
   "outputs": [],
   "source": [
    "# --- Log Reading ---\n",
    "logs = read_log_messages(log_path)"
   ]
  },
  {
   "cell_type": "code",
   "execution_count": null,
   "id": "62a03cfd",
   "metadata": {},
   "outputs": [],
   "source": [
    "# --- With CodeCarbon Emissions Tracking ---\n",
    "def run_inference_with_emissions(logs, llm_config, sys_prompt_log_parser, task, exp_name, result_dir):\n",
    "    parsed_templates = []\n",
    "    tracker = EmissionsTracker(project_name=exp_name, output_dir=result_dir, save_to_file=True)\n",
    "    tracker.start()\n",
    "    try:\n",
    "        log_parser = create_single_log_parser_agent(llm_config, sys_prompt_log_parser)\n",
    "        for i, log_message in enumerate(logs):\n",
    "            content = task + log_message\n",
    "            res = log_parser.generate_reply(messages=[{\"content\": content, \"role\": \"user\"}])\n",
    "            if res is not None and \"content\" in res:\n",
    "                parsed_templates.append(res[\"content\"].strip())\n",
    "            else:\n",
    "                parsed_templates.append(\"NONE\")\n",
    "                print(f\"[Warning] Skipped log {i} — no response or invalid format.\")\n",
    "    finally:\n",
    "        emissions = tracker.stop()\n",
    "    print(f\"Emissions: {emissions} kg CO2\")\n",
    "    return parsed_templates\n"
   ]
  },
  {
   "cell_type": "code",
   "execution_count": null,
   "id": "65db2808",
   "metadata": {},
   "outputs": [],
   "source": [
    "# --- Main Execution ---\n",
    "proc = start_ollama_server()\n",
    "time.sleep(5)  # Give it some time to initialize\n",
    "parsed_templates = run_inference_with_emissions(logs, llm_config, sys_prompt_few_shot_single_log_parser, task, exp_name, RESULT_DIR)\n",
    "save_templates(parsed_templates, llm_config, DESIGN, RESULT_DIR)\n",
    "stop_ollama_server(proc)"
   ]
  },
  {
   "cell_type": "code",
   "execution_count": null,
   "id": "425e97a3",
   "metadata": {},
   "outputs": [],
   "source": [
    "# --- Print Results ---\n",
    "#print(\"Templates:\", parsed_templates)"
   ]
  },
  {
   "cell_type": "code",
   "execution_count": null,
   "id": "d0c334bb",
   "metadata": {},
   "outputs": [],
   "source": [
    "results = evaluate_and_save(normalize_template, parsed_templates, ground_truth_file_path, exp_name)\n",
    "results_v1 = evaluate_and_save(normalize_template_v1, parsed_templates, ground_truth_file_path, exp_name)\n",
    "results_v2 = evaluate_and_save(normalize_template_v2, parsed_templates, ground_truth_file_path, exp_name)"
   ]
  },
  {
   "cell_type": "code",
   "execution_count": null,
   "id": "af7fdd8e",
   "metadata": {},
   "outputs": [],
   "source": [
    "#print(\"Results:\", results)"
   ]
  }
 ],
 "metadata": {
  "kernelspec": {
   "display_name": "erp_i",
   "language": "python",
   "name": "python3"
  },
  "language_info": {
   "codemirror_mode": {
    "name": "ipython",
    "version": 3
   },
   "file_extension": ".py",
   "mimetype": "text/x-python",
   "name": "python",
   "nbconvert_exporter": "python",
   "pygments_lexer": "ipython3",
   "version": "3.12.11"
  }
 },
 "nbformat": 4,
 "nbformat_minor": 5
}
